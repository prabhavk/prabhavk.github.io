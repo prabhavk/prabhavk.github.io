{
 "cells": [
  {
   "cell_type": "code",
   "execution_count": null,
   "id": "066b1aad",
   "metadata": {},
   "outputs": [
    {
     "ename": "",
     "evalue": "",
     "output_type": "error",
     "traceback": [
      "\u001b[1;31mRunning cells with 'Python 3.12.3' requires the ipykernel package.\n",
      "\u001b[1;31mInstall 'ipykernel' into the Python environment. \n",
      "\u001b[1;31mCommand: '/usr/bin/python3 -m pip install ipykernel -U --user --force-reinstall'"
     ]
    }
   ],
   "source": [
    "import csv\n",
    "import networkx as nx\n",
    "from functools import lru_cache\n",
    "from typing import Dict, List, Set, Tuple, Iterable\n",
    "\n",
    "def natural_sort_key(x):\n",
    "    \"\"\"Sort numbers numerically, others lexicographically.\"\"\"\n",
    "    try:\n",
    "        return (0, int(str(x)))\n",
    "    except ValueError:\n",
    "        return (1, str(x))\n",
    "\n",
    "def read_rooted_tree_clusters(\n",
    "    csv_path: str,\n",
    "    exclude_trivial: bool = True,\n",
    ") -> Tuple[Dict[str, Tuple[str, ...]], List[Tuple[str, Tuple[str, ...]]]]:\n",
    "    \"\"\"\n",
    "    Returns:\n",
    "      clusters_by_node: {node -> sorted tuple of leaf labels under that node}\n",
    "      clusters_list:    list of (node, cluster) pairs (same info, ordered by node)\n",
    "    \"\"\"\n",
    "    # Build a directed graph from parent->child edges\n",
    "    G = nx.DiGraph()\n",
    "    with open(csv_path, newline=\"\") as f:\n",
    "        reader = csv.reader(f, skipinitialspace=True)\n",
    "        for row in reader:\n",
    "            if not row or len(row) < 2:\n",
    "                continue\n",
    "            parent, child = row[0].strip(), row[1].strip()\n",
    "            if parent and child:\n",
    "                G.add_edge(parent, child)\n",
    "\n",
    "    if not nx.is_directed_acyclic_graph(G):\n",
    "        raise ValueError(\"Input edges do not form a DAG (cycle detected).\")\n",
    "\n",
    "    # Find the (single) root: in-degree 0\n",
    "    roots = [n for n in G.nodes if G.in_degree(n) == 0]\n",
    "    if len(roots) != 1:\n",
    "        raise ValueError(f\"Expected exactly 1 root; found {len(roots)}: {roots}\")\n",
    "    root = roots[0]\n",
    "\n",
    "    # Leaves = nodes with no children\n",
    "    leaves: Set[str] = {n for n in G.nodes if G.out_degree(n) == 0}\n",
    "\n",
    "    @lru_cache(maxsize=None)\n",
    "    def leaves_under(u: str) -> frozenset:\n",
    "        \"\"\"Return the set of leaf labels in the subtree rooted at u.\"\"\"\n",
    "        if G.out_degree(u) == 0:\n",
    "            return frozenset([u])  # u itself is a leaf\n",
    "        acc = set()\n",
    "        for v in G.successors(u):\n",
    "            acc |= leaves_under(v)\n",
    "        return frozenset(acc)\n",
    "\n",
    "    full_set = leaves_under(root)\n",
    "    clusters_by_node: Dict[str, Tuple[str, ...]] = {}\n",
    "    for u in G.nodes:\n",
    "        cluster = leaves_under(u)\n",
    "        if exclude_trivial:\n",
    "            if len(cluster) <= 1:       # singleton\n",
    "                continue\n",
    "            if cluster == full_set:      # full set\n",
    "                continue\n",
    "        clusters_by_node[u] = tuple(sorted(cluster, key=natural_sort_key))\n",
    "\n",
    "    # Optional: present as a list of (node, cluster) pairs\n",
    "    clusters_list: List[Tuple[str, Tuple[str, ...]]] = sorted(\n",
    "        clusters_by_node.items(), key=lambda kv: natural_sort_key(kv[0])\n",
    "    )\n",
    "\n",
    "    return clusters_by_node, clusters_list\n",
    "\n"
   ]
  },
  {
   "cell_type": "code",
   "execution_count": null,
   "id": "d57f9809",
   "metadata": {},
   "outputs": [],
   "source": [
    "    # Save your sample to a file first, e.g. \"rooted.csv\", then:\n",
    "    clusters_by_node, clusters_list = read_rooted_tree_clusters(\"rooted.csv\", exclude_trivial=True)\n",
    "\n",
    "    print(\"Clusters by node:\")\n",
    "    for node, cl in clusters_list:\n",
    "        print(f\"{node:>6}: {cl}\")\n"
   ]
  }
 ],
 "metadata": {
  "kernelspec": {
   "display_name": "Python 3",
   "language": "python",
   "name": "python3"
  },
  "language_info": {
   "name": "python",
   "version": "3.12.3"
  }
 },
 "nbformat": 4,
 "nbformat_minor": 5
}
